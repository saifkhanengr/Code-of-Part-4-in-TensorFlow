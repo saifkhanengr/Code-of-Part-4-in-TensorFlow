{
 "cells": [
  {
   "cell_type": "markdown",
   "id": "e8edcc69",
   "metadata": {},
   "source": [
    "# Code of Part 4 in TensorFlow"
   ]
  },
  {
   "cell_type": "markdown",
   "id": "e502f807",
   "metadata": {},
   "source": [
    "In this repository, we will replicate the code from our Machine Learning Guide for Petroleum Professionals: Part 4 using TensorFlow. We have previously covered the Deep Learning from scratch using Numpy. If you are interested, you can read Part 4 of the guide  [here](https://jpt.spe.org/twa/machine-learning-guide-for-petroleum-professionals-part-4). Additionally, you can access the corresponding code from scratch on [GitHub](https://github.com/saifkhanengr/Machine-Learning-Guide-for-Petroleum-Professionals-Part-4/blob/main/Code%20of%20Part%204.ipynb). Without further ado, let's start reproducing the code in TensorFlow.\n",
    "\n",
    "Before I start, I would like to thank Professor [Michael Pyrcz](https://www.linkedin.com/in/michael-pyrcz-%F0%9F%87%BA%F0%9F%87%A6-61a648a1/) of the University of Texas at Austin for generously providing me the porosity and permeability data. The complete dataset is available [here](https://zenodo.org/record/5564874#.Y_4VCHZBzCY)."
   ]
  },
  {
   "cell_type": "markdown",
   "id": "3b6d8e6c",
   "metadata": {},
   "source": [
    "First, import the necessary libraries and Framework (TensorFlow)"
   ]
  },
  {
   "cell_type": "code",
   "execution_count": 1,
   "id": "4ce79042",
   "metadata": {},
   "outputs": [],
   "source": [
    "import tensorflow as tf\n",
    "import numpy as np\n",
    "import matplotlib.pyplot as plt\n",
    "import pandas as pd  "
   ]
  },
  {
   "cell_type": "markdown",
   "id": "7a9c97a8",
   "metadata": {},
   "source": [
    "## Import data\n",
    "Same as in part 4"
   ]
  },
  {
   "cell_type": "code",
   "execution_count": 2,
   "id": "35683675",
   "metadata": {},
   "outputs": [
    {
     "data": {
      "text/html": [
       "<style type=\"text/css\">\n",
       "#T_13ed8 th {\n",
       "  background-color: #4287f5;\n",
       "  color: white;\n",
       "  font-size: 14px;\n",
       "  border: 1px solid black;\n",
       "}\n",
       "#T_13ed8 td {\n",
       "  border: 1px solid black;\n",
       "  font-size: 14px;\n",
       "  text-align: center;\n",
       "}\n",
       "</style>\n",
       "<table id=\"T_13ed8\">\n",
       "  <thead>\n",
       "    <tr>\n",
       "      <th class=\"blank level0\" >&nbsp;</th>\n",
       "      <th id=\"T_13ed8_level0_col0\" class=\"col_heading level0 col0\" >Unnamed: 0</th>\n",
       "      <th id=\"T_13ed8_level0_col1\" class=\"col_heading level0 col1\" >Porosity</th>\n",
       "      <th id=\"T_13ed8_level0_col2\" class=\"col_heading level0 col2\" >Permeability</th>\n",
       "    </tr>\n",
       "  </thead>\n",
       "  <tbody>\n",
       "    <tr>\n",
       "      <th id=\"T_13ed8_level0_row0\" class=\"row_heading level0 row0\" >0</th>\n",
       "      <td id=\"T_13ed8_row0_col0\" class=\"data row0 col0\" >0</td>\n",
       "      <td id=\"T_13ed8_row0_col1\" class=\"data row0 col1\" >13.746408</td>\n",
       "      <td id=\"T_13ed8_row0_col2\" class=\"data row0 col2\" >193.721529</td>\n",
       "    </tr>\n",
       "    <tr>\n",
       "      <th id=\"T_13ed8_level0_row1\" class=\"row_heading level0 row1\" >1</th>\n",
       "      <td id=\"T_13ed8_row1_col0\" class=\"data row1 col0\" >1</td>\n",
       "      <td id=\"T_13ed8_row1_col1\" class=\"data row1 col1\" >9.608479</td>\n",
       "      <td id=\"T_13ed8_row1_col2\" class=\"data row1 col2\" >105.718666</td>\n",
       "    </tr>\n",
       "    <tr>\n",
       "      <th id=\"T_13ed8_level0_row2\" class=\"row_heading level0 row2\" >2</th>\n",
       "      <td id=\"T_13ed8_row2_col0\" class=\"data row2 col0\" >2</td>\n",
       "      <td id=\"T_13ed8_row2_col1\" class=\"data row2 col1\" >11.664361</td>\n",
       "      <td id=\"T_13ed8_row2_col2\" class=\"data row2 col2\" >138.539297</td>\n",
       "    </tr>\n",
       "    <tr>\n",
       "      <th id=\"T_13ed8_level0_row3\" class=\"row_heading level0 row3\" >3</th>\n",
       "      <td id=\"T_13ed8_row3_col0\" class=\"data row3 col0\" >3</td>\n",
       "      <td id=\"T_13ed8_row3_col1\" class=\"data row3 col1\" >8.375338</td>\n",
       "      <td id=\"T_13ed8_row3_col2\" class=\"data row3 col2\" >93.719985</td>\n",
       "    </tr>\n",
       "    <tr>\n",
       "      <th id=\"T_13ed8_level0_row4\" class=\"row_heading level0 row4\" >4</th>\n",
       "      <td id=\"T_13ed8_row4_col0\" class=\"data row4 col0\" >4</td>\n",
       "      <td id=\"T_13ed8_row4_col1\" class=\"data row4 col1\" >13.183358</td>\n",
       "      <td id=\"T_13ed8_row4_col2\" class=\"data row4 col2\" >169.738824</td>\n",
       "    </tr>\n",
       "    <tr>\n",
       "      <th id=\"T_13ed8_level0_row5\" class=\"row_heading level0 row5\" >100</th>\n",
       "      <td id=\"T_13ed8_row5_col0\" class=\"data row5 col0\" >100</td>\n",
       "      <td id=\"T_13ed8_row5_col1\" class=\"data row5 col1\" >8.042614</td>\n",
       "      <td id=\"T_13ed8_row5_col2\" class=\"data row5 col2\" >84.564471</td>\n",
       "    </tr>\n",
       "    <tr>\n",
       "      <th id=\"T_13ed8_level0_row6\" class=\"row_heading level0 row6\" >101</th>\n",
       "      <td id=\"T_13ed8_row6_col0\" class=\"data row6 col0\" >101</td>\n",
       "      <td id=\"T_13ed8_row6_col1\" class=\"data row6 col1\" >19.887759</td>\n",
       "      <td id=\"T_13ed8_row6_col2\" class=\"data row6 col2\" >453.228801</td>\n",
       "    </tr>\n",
       "    <tr>\n",
       "      <th id=\"T_13ed8_level0_row7\" class=\"row_heading level0 row7\" >102</th>\n",
       "      <td id=\"T_13ed8_row7_col0\" class=\"data row7 col0\" >102</td>\n",
       "      <td id=\"T_13ed8_row7_col1\" class=\"data row7 col1\" >11.118544</td>\n",
       "      <td id=\"T_13ed8_row7_col2\" class=\"data row7 col2\" >128.606149</td>\n",
       "    </tr>\n",
       "    <tr>\n",
       "      <th id=\"T_13ed8_level0_row8\" class=\"row_heading level0 row8\" >103</th>\n",
       "      <td id=\"T_13ed8_row8_col0\" class=\"data row8 col0\" >103</td>\n",
       "      <td id=\"T_13ed8_row8_col1\" class=\"data row8 col1\" >16.051620</td>\n",
       "      <td id=\"T_13ed8_row8_col2\" class=\"data row8 col2\" >265.341789</td>\n",
       "    </tr>\n",
       "    <tr>\n",
       "      <th id=\"T_13ed8_level0_row9\" class=\"row_heading level0 row9\" >104</th>\n",
       "      <td id=\"T_13ed8_row9_col0\" class=\"data row9 col0\" >104</td>\n",
       "      <td id=\"T_13ed8_row9_col1\" class=\"data row9 col1\" >17.762477</td>\n",
       "      <td id=\"T_13ed8_row9_col2\" class=\"data row9 col2\" >337.335817</td>\n",
       "    </tr>\n",
       "  </tbody>\n",
       "</table>\n"
      ],
      "text/plain": [
       "<pandas.io.formats.style.Styler at 0x1b5cb98f130>"
      ]
     },
     "execution_count": 2,
     "metadata": {},
     "output_type": "execute_result"
    }
   ],
   "source": [
    "data = pd.read_csv('Stochastic_1D_por_perm_demo.csv')\n",
    "data_top_bottom = pd.concat([data.head(5), data.tail(5)])\n",
    "table_style = [{'selector': 'th', 'props': [('background-color', '#4287f5'), ('color', 'white'), ('font-size', '14px'), ('border', '1px solid black')]},\n",
    "               {'selector': 'td', 'props': [('border', '1px solid black'), ('font-size', '14px'), ('text-align', 'center')]}]\n",
    "styled_table = data_top_bottom.style.set_table_styles(table_style)\n",
    "styled_table"
   ]
  },
  {
   "cell_type": "markdown",
   "id": "bdd4d041",
   "metadata": {},
   "source": [
    "## Dropping Unnamed: 0 column and checking null"
   ]
  },
  {
   "cell_type": "code",
   "execution_count": 3,
   "id": "e259d84f",
   "metadata": {},
   "outputs": [
    {
     "name": "stdout",
     "output_type": "stream",
     "text": [
      "Null values: Porosity        0\n",
      "Permeability    0\n",
      "dtype: int64\n"
     ]
    }
   ],
   "source": [
    "data = data.drop(data.columns[0], axis=1)\n",
    "null_values = data.isnull().sum()\n",
    "\n",
    "print(f\"Null values: {null_values}\")"
   ]
  },
  {
   "cell_type": "markdown",
   "id": "e989a491",
   "metadata": {},
   "source": [
    "## Defining X as Porosity, Y as Permeability, and Scaling the data"
   ]
  },
  {
   "cell_type": "code",
   "execution_count": 4,
   "id": "aacc8a0f",
   "metadata": {},
   "outputs": [
    {
     "name": "stdout",
     "output_type": "stream",
     "text": [
      "X shape: (105, 1)\n",
      "Y shape: (105, 1)\n"
     ]
    }
   ],
   "source": [
    "X = data[\"Porosity\"]\n",
    "Y = data[\"Permeability\"]\n",
    "X = X.values.reshape(-1,1)\n",
    "Y = Y.values.reshape(-1,1)\n",
    "print(f\"X shape: {X.shape}\")\n",
    "print(f\"Y shape: {Y.shape}\")\n",
    "X = X/np.max(X)"
   ]
  },
  {
   "cell_type": "markdown",
   "id": "fd5ef0f7",
   "metadata": {},
   "source": [
    "## Ploting Porosity and Permeability"
   ]
  },
  {
   "cell_type": "code",
   "execution_count": 5,
   "id": "ad83c56a",
   "metadata": {},
   "outputs": [
    {
     "data": {
      "image/png": "[encoded data removed]",
      "text/plain": [
       "<Figure size 640x480 with 1 Axes>"
      ]
     },
     "metadata": {},
     "output_type": "display_data"
    }
   ],
   "source": [
    "plt.scatter(X,Y)\n",
    "plt.xlabel(\"Porosity\")\n",
    "plt.ylabel(\"Permeability\")\n",
    "plt.show()"
   ]
  },
  {
   "cell_type": "markdown",
   "id": "58e4f819",
   "metadata": {},
   "source": [
    "## Splitting Data into training and testing sets"
   ]
  },
  {
   "cell_type": "code",
   "execution_count": 6,
   "id": "a668376c",
   "metadata": {},
   "outputs": [
    {
     "name": "stdout",
     "output_type": "stream",
     "text": [
      "X_train shape: (84, 1)\n",
      "Y_train shape: (84, 1)\n",
      "X_test shape: (21, 1)\n",
      "Y_test shape: (21, 1)\n"
     ]
    }
   ],
   "source": [
    "def split_data(X, Y):\n",
    "    total_samples = X.shape[0]\n",
    "    train_samples = int(0.8 * total_samples)\n",
    "    test_samples = int(0.20 * total_samples)\n",
    "\n",
    "    X_train = X[:train_samples]\n",
    "    Y_train = Y[:train_samples]\n",
    "\n",
    "    X_test = X[train_samples:train_samples+test_samples]\n",
    "    Y_test = Y[train_samples:train_samples+test_samples]\n",
    "    print(f\"X_train shape: {X_train.shape}\")\n",
    "    print(f\"Y_train shape: {Y_train.shape}\")\n",
    "    print(f\"X_test shape: {X_test.shape}\")\n",
    "    print(f\"Y_test shape: {Y_test.shape}\")\n",
    "\n",
    "    return X_train, Y_train, X_test, Y_test\n",
    "\n",
    "X_train, Y_train, X_test, Y_test = split_data(X, Y)"
   ]
  },
  {
   "cell_type": "markdown",
   "id": "38510fc4",
   "metadata": {},
   "source": [
    "## Callback\n",
    "We will use TensorFlow callback function to stop our training when our desired output is achieved. In this case, when the Mean Absolute Error (MAE) of our model predicted values and the true values of permeability is less than or equal to 5, we will stop the training."
   ]
  },
  {
   "cell_type": "code",
   "execution_count": 7,
   "id": "a0beba9d",
   "metadata": {},
   "outputs": [],
   "source": [
    "class myCallback(tf.keras.callbacks.Callback):\n",
    "    def on_epoch_end(self, epoch, logs = {}):\n",
    "        if logs.get('mae') is not None and logs.get('mae') <7:\n",
    "            self.model.stop_training = True"
   ]
  },
  {
   "cell_type": "markdown",
   "id": "3668e53d",
   "metadata": {},
   "source": [
    "Next, we will define our own custom accuracy function as TensorFlow's \"accuracy\" metric is design for Classification problem and do not work in Regression problem (this one)."
   ]
  },
  {
   "cell_type": "code",
   "execution_count": 8,
   "id": "fda66148",
   "metadata": {},
   "outputs": [],
   "source": [
    "def custom_accuracy(Y, Y_pred):\n",
    "    error = (np.abs(Y_pred - Y))/(np.abs(Y))\n",
    "    avg_error = np.mean(error)\n",
    "    percent_error = avg_error*100\n",
    "    accuracy = (1 - avg_error)*100.0\n",
    "    return accuracy"
   ]
  },
  {
   "cell_type": "markdown",
   "id": "669f1b44",
   "metadata": {},
   "source": [
    "Now we will define a function `train_model`. In this function, we are defining three-layer model having three, five, and one neurons respectively. Learning rate is 0.0001. All these are the same as of Model 4 of our Numpy code. "
   ]
  },
  {
   "cell_type": "code",
   "execution_count": 9,
   "id": "3bb82790",
   "metadata": {},
   "outputs": [],
   "source": [
    "def train_model(X_train, Y_train):\n",
    "    \n",
    "    model = tf.keras.Sequential([\n",
    "    tf.keras.layers.Dense(3, activation='relu', input_shape=(1,),kernel_initializer=tf.keras.initializers.he_normal(seed_value),name='1st_layer'),\n",
    "    tf.keras.layers.Dense(5, activation='relu',kernel_initializer=tf.keras.initializers.he_normal(seed_value),name='2nd_layer'),\n",
    "    tf.keras.layers.Dense(1,kernel_initializer=tf.keras.initializers.he_normal(seed_value), name='3rd_layer')\n",
    "    ])\n",
    "    model.compile(optimizer=tf.keras.optimizers.SGD(0.0001), \n",
    "                  loss='mse', \n",
    "                  metrics=['mae'])\n",
    "    \n",
    "    callbacks = myCallback()\n",
    "    history = model.fit(X_train, Y_train, epochs=5001,verbose=0, callbacks=[callbacks])\n",
    "\n",
    "    num_iterations = len(history.epoch)\n",
    "    for i, cost in enumerate(history.history['loss']):\n",
    "        mae = history.history['mae'][i]\n",
    "        if i % 100 == 0:\n",
    "            print(\"Train Cost after iteration {}: {}\".format(i, cost))\n",
    "            print(\"Train MAE after iteration {}: {}\".format(i, mae))\n",
    "    \n",
    "    if history.history['mae'][-1] < 7:\n",
    "        print(\"\\033[1mReached MAE < 7 so cancelling training!\\033[0m\")\n",
    "        print(\"Last MAE: {:.4f}\".format(history.history['mae'][-1]))\n",
    "\n",
    "    Y_pred = model.predict(X_train)\n",
    "    accuracy = custom_accuracy(Y_train, Y_pred)\n",
    "    print(\"Train Accuracy is:\", accuracy)\n",
    "    \n",
    "    \"\"\"Uncomment the below code to see the values of shapes of weights and bias\n",
    "    weights = model.get_weights()\n",
    "    for i in range(1, 4):\n",
    "        layer_weights = weights[i*2-2]\n",
    "        layer_bias = weights[i*2-1]\n",
    "        print(f\"Weights of layer {i}:\")\n",
    "        print(layer_weights)\n",
    "        print(f\"shape {layer_weights.shape}\")\n",
    "        print(f\"Bias of layer {i}:\")\n",
    "        print(layer_bias)\n",
    "        print(f\"shape {layer_bias.shape}\")\"\"\"\n",
    "    \n",
    "    plt.figure(figsize=(8, 6))\n",
    "    plt.scatter(X_train, Y_train, marker='o', c='blue', label='Actual Value')\n",
    "    plt.scatter(X_train, Y_pred, marker='o', c='red', label='Predicted Value')\n",
    "    plt.xlabel(\"Porosity\")\n",
    "    plt.ylabel(\"Permeability\")\n",
    "    plt.legend()\n",
    "    plt.show()\n",
    "         \n",
    "    return history"
   ]
  },
  {
   "cell_type": "markdown",
   "id": "7f024cea",
   "metadata": {},
   "source": [
    "In the below cell, I am setting the seed value to 42, an arbitrary choice, so we can get the same results everytime we run the cell."
   ]
  },
  {
   "cell_type": "code",
   "execution_count": 10,
   "id": "c6e0f775",
   "metadata": {},
   "outputs": [],
   "source": [
    "seed_value = 42\n",
    "tf.random.set_seed(seed_value)"
   ]
  },
  {
   "cell_type": "markdown",
   "id": "8c3a4c23",
   "metadata": {},
   "source": [
    "## Training our Model"
   ]
  },
  {
   "cell_type": "code",
   "execution_count": 11,
   "id": "a52e4a8c",
   "metadata": {},
   "outputs": [
    {
     "name": "stdout",
     "output_type": "stream",
     "text": [
      "Train Cost after iteration 0: 34072.24609375\n",
      "Train MAE after iteration 0: 163.15231323242188\n",
      "Train Cost after iteration 100: 840.1486206054688\n",
      "Train MAE after iteration 100: 18.134292602539062\n",
      "Train Cost after iteration 200: 902.8462524414062\n",
      "Train MAE after iteration 200: 19.743574142456055\n",
      "Train Cost after iteration 300: 800.3756713867188\n",
      "Train MAE after iteration 300: 20.38481903076172\n",
      "Train Cost after iteration 400: 692.3524169921875\n",
      "Train MAE after iteration 400: 15.523210525512695\n",
      "Train Cost after iteration 500: 582.508544921875\n",
      "Train MAE after iteration 500: 14.756497383117676\n",
      "Train Cost after iteration 600: 362.00408935546875\n",
      "Train MAE after iteration 600: 11.825353622436523\n",
      "Train Cost after iteration 700: 220.98348999023438\n",
      "Train MAE after iteration 700: 8.47287368774414\n",
      "\u001b[1mReached MAE < 7 so cancelling training!\u001b[0m\n",
      "Last MAE: 6.9432\n",
      "3/3 [==============================] - 0s 3ms/step\n",
      "Train Accuracy is: 92.11009819769157\n"
     ]
    },
    {
     "data": {
      "image/png": "[encoded data removed]",
      "text/plain": [
       "<Figure size 800x600 with 1 Axes>"
      ]
     },
     "metadata": {},
     "output_type": "display_data"
    }
   ],
   "source": [
    "hist = train_model(X_train, Y_train)"
   ]
  },
  {
   "cell_type": "markdown",
   "id": "c2d20b4d",
   "metadata": {},
   "source": [
    "See! Our model  automatically stopped training when MAE reached < 7. Within 700 iterations, saved us from unnecessary additional 4300 iterations. And, our training accuracy is 92.11%.Good to go. Now check out the testing accuracy.\n",
    "\n",
    "The below function will evaluate our trained model and compare it's results with the test data"
   ]
  },
  {
   "cell_type": "code",
   "execution_count": 12,
   "id": "c56ea120",
   "metadata": {},
   "outputs": [],
   "source": [
    "def evaluate_model(model, X_test, Y_test):\n",
    "    loss = model.evaluate(X_test, Y_test)[0]\n",
    "    print(\"Test Loss:\", loss)\n",
    "    MAE = model.evaluate(X_test, Y_test)[1]\n",
    "    print(\"Test MAE:\", MAE)\n",
    "\n",
    "    Y_pred = model.predict(X_test)\n",
    "    accuracy = custom_accuracy(Y_test, Y_pred)\n",
    "    print(\"Test Accuracy is:\", accuracy)\n",
    "\n",
    "    plt.figure(figsize=(8, 6))\n",
    "    plt.scatter(X_test, Y_test, marker='o', c='blue', label='Actual Value')\n",
    "    plt.scatter(X_test, Y_pred, marker='o', c='red', label='Predicted Value')\n",
    "    plt.xlabel(\"Porosity\")\n",
    "    plt.ylabel(\"Permeability\")\n",
    "    plt.legend()\n",
    "    plt.show()\n",
    "    \n",
    "    df = pd.DataFrame({\"Actual Permeability\": np.squeeze(Y_test), \"Predicted Permeability\": np.squeeze(Y_pred)})\n",
    "    data_top_bottom = pd.concat([df.head(5), df.tail(5)])\n",
    "    table_style = [{'selector': 'th', 'props': [('background-color', '#4287f5'), ('color', 'white'), ('font-size', '14px'), ('border', '1px solid black')]},\n",
    "                   {'selector': 'td', 'props': [('border', '1px solid black'), ('font-size', '14px'), ('text-align', 'center')]}]\n",
    "    styled_table = data_top_bottom.style.set_table_styles(table_style)\n",
    "    display(styled_table)\n"
   ]
  },
  {
   "cell_type": "code",
   "execution_count": 13,
   "id": "7f9a4b5e",
   "metadata": {
    "scrolled": false
   },
   "outputs": [
    {
     "name": "stdout",
     "output_type": "stream",
     "text": [
      "1/1 [==============================] - 0s 298ms/step - loss: 256.9063 - mae: 13.5333\n",
      "Test Loss: 256.9063415527344\n",
      "1/1 [==============================] - 0s 46ms/step - loss: 256.9063 - mae: 13.5333\n",
      "Test MAE: 13.53326416015625\n",
      "1/1 [==============================] - 0s 152ms/step\n",
      "Test Accuracy is: 91.34431733027017\n"
     ]
    },
    {
     "data": {
      "image/png": "[encoded data removed]",
      "text/plain": [
       "<Figure size 800x600 with 1 Axes>"
      ]
     },
     "metadata": {},
     "output_type": "display_data"
    },
    {
     "data": {
      "text/html": [
       "<style type=\"text/css\">\n",
       "#T_c1de5 th {\n",
       "  background-color: #4287f5;\n",
       "  color: white;\n",
       "  font-size: 14px;\n",
       "  border: 1px solid black;\n",
       "}\n",
       "#T_c1de5 td {\n",
       "  border: 1px solid black;\n",
       "  font-size: 14px;\n",
       "  text-align: center;\n",
       "}\n",
       "</style>\n",
       "<table id=\"T_c1de5\">\n",
       "  <thead>\n",
       "    <tr>\n",
       "      <th class=\"blank level0\" >&nbsp;</th>\n",
       "      <th id=\"T_c1de5_level0_col0\" class=\"col_heading level0 col0\" >Actual Permeability</th>\n",
       "      <th id=\"T_c1de5_level0_col1\" class=\"col_heading level0 col1\" >Predicted Permeability</th>\n",
       "    </tr>\n",
       "  </thead>\n",
       "  <tbody>\n",
       "    <tr>\n",
       "      <th id=\"T_c1de5_level0_row0\" class=\"row_heading level0 row0\" >0</th>\n",
       "      <td id=\"T_c1de5_row0_col0\" class=\"data row0 col0\" >65.227602</td>\n",
       "      <td id=\"T_c1de5_row0_col1\" class=\"data row0 col1\" >58.686630</td>\n",
       "    </tr>\n",
       "    <tr>\n",
       "      <th id=\"T_c1de5_level0_row1\" class=\"row_heading level0 row1\" >1</th>\n",
       "      <td id=\"T_c1de5_row1_col0\" class=\"data row1 col0\" >98.809947</td>\n",
       "      <td id=\"T_c1de5_row1_col1\" class=\"data row1 col1\" >103.310379</td>\n",
       "    </tr>\n",
       "    <tr>\n",
       "      <th id=\"T_c1de5_level0_row2\" class=\"row_heading level0 row2\" >2</th>\n",
       "      <td id=\"T_c1de5_row2_col0\" class=\"data row2 col0\" >173.684221</td>\n",
       "      <td id=\"T_c1de5_row2_col1\" class=\"data row2 col1\" >182.689392</td>\n",
       "    </tr>\n",
       "    <tr>\n",
       "      <th id=\"T_c1de5_level0_row3\" class=\"row_heading level0 row3\" >3</th>\n",
       "      <td id=\"T_c1de5_row3_col0\" class=\"data row3 col0\" >251.375148</td>\n",
       "      <td id=\"T_c1de5_row3_col1\" class=\"data row3 col1\" >287.007080</td>\n",
       "    </tr>\n",
       "    <tr>\n",
       "      <th id=\"T_c1de5_level0_row4\" class=\"row_heading level0 row4\" >4</th>\n",
       "      <td id=\"T_c1de5_row4_col0\" class=\"data row4 col0\" >120.779829</td>\n",
       "      <td id=\"T_c1de5_row4_col1\" class=\"data row4 col1\" >122.044136</td>\n",
       "    </tr>\n",
       "    <tr>\n",
       "      <th id=\"T_c1de5_level0_row5\" class=\"row_heading level0 row5\" >16</th>\n",
       "      <td id=\"T_c1de5_row5_col0\" class=\"data row5 col0\" >84.564471</td>\n",
       "      <td id=\"T_c1de5_row5_col1\" class=\"data row5 col1\" >74.815529</td>\n",
       "    </tr>\n",
       "    <tr>\n",
       "      <th id=\"T_c1de5_level0_row6\" class=\"row_heading level0 row6\" >17</th>\n",
       "      <td id=\"T_c1de5_row6_col0\" class=\"data row6 col0\" >453.228801</td>\n",
       "      <td id=\"T_c1de5_row6_col1\" class=\"data row6 col1\" >460.068420</td>\n",
       "    </tr>\n",
       "    <tr>\n",
       "      <th id=\"T_c1de5_level0_row7\" class=\"row_heading level0 row7\" >18</th>\n",
       "      <td id=\"T_c1de5_row7_col0\" class=\"data row7 col0\" >128.606149</td>\n",
       "      <td id=\"T_c1de5_row7_col1\" class=\"data row7 col1\" >142.208694</td>\n",
       "    </tr>\n",
       "    <tr>\n",
       "      <th id=\"T_c1de5_level0_row8\" class=\"row_heading level0 row8\" >19</th>\n",
       "      <td id=\"T_c1de5_row8_col0\" class=\"data row8 col0\" >265.341789</td>\n",
       "      <td id=\"T_c1de5_row8_col1\" class=\"data row8 col1\" >286.225098</td>\n",
       "    </tr>\n",
       "    <tr>\n",
       "      <th id=\"T_c1de5_level0_row9\" class=\"row_heading level0 row9\" >20</th>\n",
       "      <td id=\"T_c1de5_row9_col0\" class=\"data row9 col0\" >337.335817</td>\n",
       "      <td id=\"T_c1de5_row9_col1\" class=\"data row9 col1\" >363.756409</td>\n",
       "    </tr>\n",
       "  </tbody>\n",
       "</table>\n"
      ],
      "text/plain": [
       "<pandas.io.formats.style.Styler at 0x1b5cd7e2f40>"
      ]
     },
     "metadata": {},
     "output_type": "display_data"
    }
   ],
   "source": [
    "evaluate_model(hist.model, X_test, Y_test)"
   ]
  },
  {
   "cell_type": "markdown",
   "id": "99462e5e",
   "metadata": {},
   "source": [
    "So, testing accuracy is 91.34%. Not overfitting.\n",
    "\n",
    "Try tunning the hyperparameters and running this code with your own data (or with this data)."
   ]
  }
 ],
 "metadata": {
  "kernelspec": {
   "display_name": "Python 3 (ipykernel)",
   "language": "python",
   "name": "python3"
  },
  "language_info": {
   "codemirror_mode": {
    "name": "ipython",
    "version": 3
   },
   "file_extension": ".py",
   "mimetype": "text/x-python",
   "name": "python",
   "nbconvert_exporter": "python",
   "pygments_lexer": "ipython3",
   "version": "3.9.13"
  }
 },
 "nbformat": 4,
 "nbformat_minor": 5
}
