{
 "cells": [
  {
   "cell_type": "markdown",
   "id": "e8edcc69",
   "metadata": {},
   "source": [
    "# Code of Part 4 in TensorFlow"
   ]
  },
  {
   "cell_type": "markdown",
   "id": "e502f807",
   "metadata": {},
   "source": [
    "In this repository, we will replicate the code from our Machine Learning Guide for Petroleum Professionals: Part 4 using TensorFlow. We have previously covered the Deep Learning from scratch using Numpy. If you are interested, you can read Part 4 of the guide  [here](https://jpt.spe.org/twa/machine-learning-guide-for-petroleum-professionals-part-4). Additionally, you can access the corresponding code from scratch on [GitHub](https://github.com/saifkhanengr/Machine-Learning-Guide-for-Petroleum-Professionals-Part-4/blob/main/Code%20of%20Part%204.ipynb). Without further ado, let's start reproducing the code in TensorFlow.\n",
    "\n",
    "Before I start, I would like to thank Professor [Michael Pyrcz](https://www.linkedin.com/in/michael-pyrcz-%F0%9F%87%BA%F0%9F%87%A6-61a648a1/) of the University of Texas at Austin for generously providing me the porosity and permeability data. The complete dataset is available [here](https://zenodo.org/record/5564874#.Y_4VCHZBzCY)."
   ]
  },
  {
   "cell_type": "markdown",
   "id": "3b6d8e6c",
   "metadata": {},
   "source": [
    "First, import the necessary libraries and Framework (TensorFlow)"
   ]
  },
  {
   "cell_type": "code",
   "execution_count": 1,
   "id": "4ce79042",
   "metadata": {},
   "outputs": [],
   "source": [
    "import tensorflow as tf\n",
    "import numpy as np\n",
    "import matplotlib.pyplot as plt\n",
    "import pandas as pd  "
   ]
  },
  {
   "cell_type": "markdown",
   "id": "7a9c97a8",
   "metadata": {},
   "source": [
    "## Import data\n",
    "Same as in part 4"
   ]
  },
  {
   "cell_type": "code",
   "execution_count": 2,
   "id": "35683675",
   "metadata": {},
   "outputs": [
    {
     "data": {
      "text/html": [
       "<style type=\"text/css\">\n",
       "#T_05715 th {\n",
       "  background-color: #4287f5;\n",
       "  color: white;\n",
       "  font-size: 14px;\n",
       "  border: 1px solid black;\n",
       "}\n",
       "#T_05715 td {\n",
       "  border: 1px solid black;\n",
       "  font-size: 14px;\n",
       "  text-align: center;\n",
       "}\n",
       "</style>\n",
       "<table id=\"T_05715\">\n",
       "  <thead>\n",
       "    <tr>\n",
       "      <th class=\"blank level0\" >&nbsp;</th>\n",
       "      <th id=\"T_05715_level0_col0\" class=\"col_heading level0 col0\" >Unnamed: 0</th>\n",
       "      <th id=\"T_05715_level0_col1\" class=\"col_heading level0 col1\" >Porosity</th>\n",
       "      <th id=\"T_05715_level0_col2\" class=\"col_heading level0 col2\" >Permeability</th>\n",
       "    </tr>\n",
       "  </thead>\n",
       "  <tbody>\n",
       "    <tr>\n",
       "      <th id=\"T_05715_level0_row0\" class=\"row_heading level0 row0\" >0</th>\n",
       "      <td id=\"T_05715_row0_col0\" class=\"data row0 col0\" >0</td>\n",
       "      <td id=\"T_05715_row0_col1\" class=\"data row0 col1\" >13.746408</td>\n",
       "      <td id=\"T_05715_row0_col2\" class=\"data row0 col2\" >193.721529</td>\n",
       "    </tr>\n",
       "    <tr>\n",
       "      <th id=\"T_05715_level0_row1\" class=\"row_heading level0 row1\" >1</th>\n",
       "      <td id=\"T_05715_row1_col0\" class=\"data row1 col0\" >1</td>\n",
       "      <td id=\"T_05715_row1_col1\" class=\"data row1 col1\" >9.608479</td>\n",
       "      <td id=\"T_05715_row1_col2\" class=\"data row1 col2\" >105.718666</td>\n",
       "    </tr>\n",
       "    <tr>\n",
       "      <th id=\"T_05715_level0_row2\" class=\"row_heading level0 row2\" >2</th>\n",
       "      <td id=\"T_05715_row2_col0\" class=\"data row2 col0\" >2</td>\n",
       "      <td id=\"T_05715_row2_col1\" class=\"data row2 col1\" >11.664361</td>\n",
       "      <td id=\"T_05715_row2_col2\" class=\"data row2 col2\" >138.539297</td>\n",
       "    </tr>\n",
       "    <tr>\n",
       "      <th id=\"T_05715_level0_row3\" class=\"row_heading level0 row3\" >3</th>\n",
       "      <td id=\"T_05715_row3_col0\" class=\"data row3 col0\" >3</td>\n",
       "      <td id=\"T_05715_row3_col1\" class=\"data row3 col1\" >8.375338</td>\n",
       "      <td id=\"T_05715_row3_col2\" class=\"data row3 col2\" >93.719985</td>\n",
       "    </tr>\n",
       "    <tr>\n",
       "      <th id=\"T_05715_level0_row4\" class=\"row_heading level0 row4\" >4</th>\n",
       "      <td id=\"T_05715_row4_col0\" class=\"data row4 col0\" >4</td>\n",
       "      <td id=\"T_05715_row4_col1\" class=\"data row4 col1\" >13.183358</td>\n",
       "      <td id=\"T_05715_row4_col2\" class=\"data row4 col2\" >169.738824</td>\n",
       "    </tr>\n",
       "    <tr>\n",
       "      <th id=\"T_05715_level0_row5\" class=\"row_heading level0 row5\" >100</th>\n",
       "      <td id=\"T_05715_row5_col0\" class=\"data row5 col0\" >100</td>\n",
       "      <td id=\"T_05715_row5_col1\" class=\"data row5 col1\" >8.042614</td>\n",
       "      <td id=\"T_05715_row5_col2\" class=\"data row5 col2\" >84.564471</td>\n",
       "    </tr>\n",
       "    <tr>\n",
       "      <th id=\"T_05715_level0_row6\" class=\"row_heading level0 row6\" >101</th>\n",
       "      <td id=\"T_05715_row6_col0\" class=\"data row6 col0\" >101</td>\n",
       "      <td id=\"T_05715_row6_col1\" class=\"data row6 col1\" >19.887759</td>\n",
       "      <td id=\"T_05715_row6_col2\" class=\"data row6 col2\" >453.228801</td>\n",
       "    </tr>\n",
       "    <tr>\n",
       "      <th id=\"T_05715_level0_row7\" class=\"row_heading level0 row7\" >102</th>\n",
       "      <td id=\"T_05715_row7_col0\" class=\"data row7 col0\" >102</td>\n",
       "      <td id=\"T_05715_row7_col1\" class=\"data row7 col1\" >11.118544</td>\n",
       "      <td id=\"T_05715_row7_col2\" class=\"data row7 col2\" >128.606149</td>\n",
       "    </tr>\n",
       "    <tr>\n",
       "      <th id=\"T_05715_level0_row8\" class=\"row_heading level0 row8\" >103</th>\n",
       "      <td id=\"T_05715_row8_col0\" class=\"data row8 col0\" >103</td>\n",
       "      <td id=\"T_05715_row8_col1\" class=\"data row8 col1\" >16.051620</td>\n",
       "      <td id=\"T_05715_row8_col2\" class=\"data row8 col2\" >265.341789</td>\n",
       "    </tr>\n",
       "    <tr>\n",
       "      <th id=\"T_05715_level0_row9\" class=\"row_heading level0 row9\" >104</th>\n",
       "      <td id=\"T_05715_row9_col0\" class=\"data row9 col0\" >104</td>\n",
       "      <td id=\"T_05715_row9_col1\" class=\"data row9 col1\" >17.762477</td>\n",
       "      <td id=\"T_05715_row9_col2\" class=\"data row9 col2\" >337.335817</td>\n",
       "    </tr>\n",
       "  </tbody>\n",
       "</table>\n"
      ],
      "text/plain": [
       "<pandas.io.formats.style.Styler at 0x2954b44e130>"
      ]
     },
     "execution_count": 2,
     "metadata": {},
     "output_type": "execute_result"
    }
   ],
   "source": [
    "data = pd.read_csv('Stochastic_1D_por_perm_demo.csv')\n",
    "data_top_bottom = pd.concat([data.head(5), data.tail(5)])\n",
    "table_style = [{'selector': 'th', 'props': [('background-color', '#4287f5'), ('color', 'white'), ('font-size', '14px'), ('border', '1px solid black')]},\n",
    "               {'selector': 'td', 'props': [('border', '1px solid black'), ('font-size', '14px'), ('text-align', 'center')]}]\n",
    "styled_table = data_top_bottom.style.set_table_styles(table_style)\n",
    "styled_table"
   ]
  },
  {
   "cell_type": "markdown",
   "id": "bdd4d041",
   "metadata": {},
   "source": [
    "## Drop Unnamed: 0 column, and check null"
   ]
  },
  {
   "cell_type": "code",
   "execution_count": 3,
   "id": "e259d84f",
   "metadata": {},
   "outputs": [
    {
     "name": "stdout",
     "output_type": "stream",
     "text": [
      "Null values: Porosity        0\n",
      "Permeability    0\n",
      "dtype: int64\n"
     ]
    }
   ],
   "source": [
    "data = data.drop(data.columns[0], axis=1)\n",
    "null_values = data.isnull().sum()\n",
    "print(f\"Null values: {null_values}\")"
   ]
  },
  {
   "cell_type": "markdown",
   "id": "743580ae",
   "metadata": {},
   "source": [
    "**Checking our data after dropping the unnamed column:**"
   ]
  },
  {
   "cell_type": "code",
   "execution_count": 4,
   "id": "6e2417c5",
   "metadata": {},
   "outputs": [
    {
     "data": {
      "text/html": [
       "<style type=\"text/css\">\n",
       "#T_cf407 th {\n",
       "  background-color: #4287f5;\n",
       "  color: white;\n",
       "  font-size: 14px;\n",
       "  border: 1px solid black;\n",
       "}\n",
       "#T_cf407 td {\n",
       "  border: 1px solid black;\n",
       "  font-size: 14px;\n",
       "  text-align: center;\n",
       "}\n",
       "</style>\n",
       "<table id=\"T_cf407\">\n",
       "  <thead>\n",
       "    <tr>\n",
       "      <th class=\"blank level0\" >&nbsp;</th>\n",
       "      <th id=\"T_cf407_level0_col0\" class=\"col_heading level0 col0\" >Porosity</th>\n",
       "      <th id=\"T_cf407_level0_col1\" class=\"col_heading level0 col1\" >Permeability</th>\n",
       "    </tr>\n",
       "  </thead>\n",
       "  <tbody>\n",
       "    <tr>\n",
       "      <th id=\"T_cf407_level0_row0\" class=\"row_heading level0 row0\" >0</th>\n",
       "      <td id=\"T_cf407_row0_col0\" class=\"data row0 col0\" >13.746408</td>\n",
       "      <td id=\"T_cf407_row0_col1\" class=\"data row0 col1\" >193.721529</td>\n",
       "    </tr>\n",
       "    <tr>\n",
       "      <th id=\"T_cf407_level0_row1\" class=\"row_heading level0 row1\" >1</th>\n",
       "      <td id=\"T_cf407_row1_col0\" class=\"data row1 col0\" >9.608479</td>\n",
       "      <td id=\"T_cf407_row1_col1\" class=\"data row1 col1\" >105.718666</td>\n",
       "    </tr>\n",
       "    <tr>\n",
       "      <th id=\"T_cf407_level0_row2\" class=\"row_heading level0 row2\" >2</th>\n",
       "      <td id=\"T_cf407_row2_col0\" class=\"data row2 col0\" >11.664361</td>\n",
       "      <td id=\"T_cf407_row2_col1\" class=\"data row2 col1\" >138.539297</td>\n",
       "    </tr>\n",
       "    <tr>\n",
       "      <th id=\"T_cf407_level0_row3\" class=\"row_heading level0 row3\" >3</th>\n",
       "      <td id=\"T_cf407_row3_col0\" class=\"data row3 col0\" >8.375338</td>\n",
       "      <td id=\"T_cf407_row3_col1\" class=\"data row3 col1\" >93.719985</td>\n",
       "    </tr>\n",
       "    <tr>\n",
       "      <th id=\"T_cf407_level0_row4\" class=\"row_heading level0 row4\" >4</th>\n",
       "      <td id=\"T_cf407_row4_col0\" class=\"data row4 col0\" >13.183358</td>\n",
       "      <td id=\"T_cf407_row4_col1\" class=\"data row4 col1\" >169.738824</td>\n",
       "    </tr>\n",
       "    <tr>\n",
       "      <th id=\"T_cf407_level0_row5\" class=\"row_heading level0 row5\" >100</th>\n",
       "      <td id=\"T_cf407_row5_col0\" class=\"data row5 col0\" >8.042614</td>\n",
       "      <td id=\"T_cf407_row5_col1\" class=\"data row5 col1\" >84.564471</td>\n",
       "    </tr>\n",
       "    <tr>\n",
       "      <th id=\"T_cf407_level0_row6\" class=\"row_heading level0 row6\" >101</th>\n",
       "      <td id=\"T_cf407_row6_col0\" class=\"data row6 col0\" >19.887759</td>\n",
       "      <td id=\"T_cf407_row6_col1\" class=\"data row6 col1\" >453.228801</td>\n",
       "    </tr>\n",
       "    <tr>\n",
       "      <th id=\"T_cf407_level0_row7\" class=\"row_heading level0 row7\" >102</th>\n",
       "      <td id=\"T_cf407_row7_col0\" class=\"data row7 col0\" >11.118544</td>\n",
       "      <td id=\"T_cf407_row7_col1\" class=\"data row7 col1\" >128.606149</td>\n",
       "    </tr>\n",
       "    <tr>\n",
       "      <th id=\"T_cf407_level0_row8\" class=\"row_heading level0 row8\" >103</th>\n",
       "      <td id=\"T_cf407_row8_col0\" class=\"data row8 col0\" >16.051620</td>\n",
       "      <td id=\"T_cf407_row8_col1\" class=\"data row8 col1\" >265.341789</td>\n",
       "    </tr>\n",
       "    <tr>\n",
       "      <th id=\"T_cf407_level0_row9\" class=\"row_heading level0 row9\" >104</th>\n",
       "      <td id=\"T_cf407_row9_col0\" class=\"data row9 col0\" >17.762477</td>\n",
       "      <td id=\"T_cf407_row9_col1\" class=\"data row9 col1\" >337.335817</td>\n",
       "    </tr>\n",
       "  </tbody>\n",
       "</table>\n"
      ],
      "text/plain": [
       "<pandas.io.formats.style.Styler at 0x2954bc29d00>"
      ]
     },
     "execution_count": 4,
     "metadata": {},
     "output_type": "execute_result"
    }
   ],
   "source": [
    "data_top_bottom = pd.concat([data.head(5), data.tail(5)])\n",
    "table_style = [{'selector': 'th', 'props': [('background-color', '#4287f5'), ('color', 'white'), ('font-size', '14px'), ('border', '1px solid black')]},\n",
    "               {'selector': 'td', 'props': [('border', '1px solid black'), ('font-size', '14px'), ('text-align', 'center')]}]\n",
    "styled_table = data_top_bottom.style.set_table_styles(table_style)\n",
    "styled_table"
   ]
  },
  {
   "cell_type": "markdown",
   "id": "e989a491",
   "metadata": {},
   "source": [
    "## Shuffle, Define X as Porosity, Y as Permeability, and Normalize the data"
   ]
  },
  {
   "cell_type": "code",
   "execution_count": 5,
   "id": "aacc8a0f",
   "metadata": {},
   "outputs": [],
   "source": [
    "data = data.sample(frac=1, random_state=42)\n",
    "X = data[\"Porosity\"]\n",
    "Y = data[\"Permeability\"]\n",
    "X = X/np.max(X)"
   ]
  },
  {
   "cell_type": "markdown",
   "id": "fd5ef0f7",
   "metadata": {},
   "source": [
    "## Ploting Porosity and Permeability"
   ]
  },
  {
   "cell_type": "code",
   "execution_count": 6,
   "id": "ad83c56a",
   "metadata": {},
   "outputs": [
    {
     "data": {
      "image/png": "[encoded data removed]",
      "text/plain": [
       "<Figure size 640x480 with 1 Axes>"
      ]
     },
     "metadata": {},
     "output_type": "display_data"
    }
   ],
   "source": [
    "plt.scatter(X,Y)\n",
    "plt.xlabel(\"Porosity\")\n",
    "plt.ylabel(\"Permeability\")\n",
    "plt.show()"
   ]
  },
  {
   "cell_type": "markdown",
   "id": "58e4f819",
   "metadata": {},
   "source": [
    "## Splitting Data into training and testing sets:\n",
    "\n",
    "We will import `train_test_split` from sklearn and use it to split our data into training (80%) and testing (20%) sets."
   ]
  },
  {
   "cell_type": "code",
   "execution_count": 7,
   "id": "85c57cff",
   "metadata": {},
   "outputs": [
    {
     "name": "stdout",
     "output_type": "stream",
     "text": [
      "X_train shape: (84,)\n",
      "Y_train shape: (84,)\n",
      "X_test shape: (21,)\n",
      "Y_test shape: (21,)\n"
     ]
    }
   ],
   "source": [
    "from sklearn.model_selection import train_test_split\n",
    "\n",
    "X_train, X_test, Y_train, Y_test = train_test_split(X, Y, test_size=0.2, random_state=42)\n",
    "\n",
    "print(f\"X_train shape: {X_train.shape}\")\n",
    "print(f\"Y_train shape: {Y_train.shape}\")\n",
    "print(f\"X_test shape: {X_test.shape}\")\n",
    "print(f\"Y_test shape: {Y_test.shape}\")"
   ]
  },
  {
   "cell_type": "markdown",
   "id": "38510fc4",
   "metadata": {},
   "source": [
    "## Early Stopping:\n",
    "We will use TensorFlow technique, EarlyStopping, to stop our training when there is no more improvement after each iteration."
   ]
  },
  {
   "cell_type": "code",
   "execution_count": 8,
   "id": "2b5c5700",
   "metadata": {},
   "outputs": [],
   "source": [
    "from tensorflow.keras.callbacks import EarlyStopping"
   ]
  },
  {
   "cell_type": "markdown",
   "id": "3668e53d",
   "metadata": {},
   "source": [
    "Next, we will import mean_absolute_error from sklearn and use it to find the accuracy of our model."
   ]
  },
  {
   "cell_type": "code",
   "execution_count": 9,
   "id": "541e1a8f",
   "metadata": {},
   "outputs": [],
   "source": [
    "from sklearn.metrics import mean_absolute_error"
   ]
  },
  {
   "cell_type": "markdown",
   "id": "669f1b44",
   "metadata": {},
   "source": [
    "Now we will define a function `train_model`. In this function, we are defining three-layer model having three, five, and one neurons respectively. Number of iteration is 5000 and Learning rate is 0.0001. All these are the same as of Model 4 of our Numpy code. "
   ]
  },
  {
   "cell_type": "code",
   "execution_count": 10,
   "id": "3bb82790",
   "metadata": {},
   "outputs": [],
   "source": [
    "def train_model(X_train, Y_train):\n",
    "    \n",
    "    model = tf.keras.Sequential([\n",
    "    tf.keras.layers.Dense(3, activation='relu', input_shape=(1,),kernel_initializer=tf.keras.initializers.he_normal(seed_value),name='1st_layer'),\n",
    "    tf.keras.layers.Dense(5, activation='relu',kernel_initializer=tf.keras.initializers.he_normal(seed_value),name='2nd_layer'),\n",
    "    tf.keras.layers.Dense(1,kernel_initializer=tf.keras.initializers.he_normal(seed_value), name='3rd_layer')\n",
    "    ])\n",
    "    model.compile(optimizer=tf.keras.optimizers.SGD(0.0001), \n",
    "                  loss='mse', \n",
    "                  metrics=['mae'])\n",
    "    \n",
    "    callbacks = EarlyStopping(monitor='loss', patience=100)\n",
    "    history = model.fit(X_train, Y_train, epochs=5001,verbose=0, callbacks=[callbacks])\n",
    "\n",
    "    num_iterations = len(history.epoch)\n",
    "    for i, cost in enumerate(history.history['loss']):\n",
    "        if i % 100 == 0:\n",
    "            print(\"Train Cost after iteration {}: {}\".format(i, cost))\n",
    "\n",
    "    Y_pred = model.predict(X_train)\n",
    "\n",
    "    print(\"\\033[1mTrainning stop after iteration {}\\033[0m\".format(i))\n",
    "    mae = mean_absolute_error(Y_train, Y_pred)\n",
    "    accuracy = (1 - mae / np.mean(Y_train)) * 100.0\n",
    "    print(\"\\033[1mTrain Accuracy is:\\033[0m\", \"\\033[1m{}\\033[0m\".format(accuracy))\n",
    "\n",
    "    \n",
    "    \"\"\"Uncomment the below code to see the values of shapes of weights and bias\n",
    "    weights = model.get_weights()\n",
    "    for i in range(1, 4):\n",
    "        layer_weights = weights[i*2-2]\n",
    "        layer_bias = weights[i*2-1]\n",
    "        print(f\"Weights of layer {i}:\")\n",
    "        print(layer_weights)\n",
    "        print(f\"shape {layer_weights.shape}\")\n",
    "        print(f\"Bias of layer {i}:\")\n",
    "        print(layer_bias)\n",
    "        print(f\"shape {layer_bias.shape}\")\"\"\"\n",
    "    \n",
    "    plt.figure(figsize=(8, 6))\n",
    "    plt.scatter(X_train, Y_train, marker='o', c='blue', label='Actual Value')\n",
    "    plt.scatter(X_train, Y_pred, marker='o', c='red', label='Predicted Value')\n",
    "    plt.xlabel(\"Porosity\")\n",
    "    plt.ylabel(\"Permeability\")\n",
    "    plt.legend()\n",
    "    plt.show()\n",
    "         \n",
    "    return history"
   ]
  },
  {
   "cell_type": "markdown",
   "id": "7f024cea",
   "metadata": {},
   "source": [
    "In the below cell, I am setting the seed value to 42, an arbitrary choice, so we can get the same results everytime we run the cell."
   ]
  },
  {
   "cell_type": "code",
   "execution_count": 11,
   "id": "c6e0f775",
   "metadata": {},
   "outputs": [],
   "source": [
    "seed_value = 42\n",
    "tf.random.set_seed(seed_value)"
   ]
  },
  {
   "cell_type": "markdown",
   "id": "8c3a4c23",
   "metadata": {},
   "source": [
    "## Training our Model"
   ]
  },
  {
   "cell_type": "code",
   "execution_count": 12,
   "id": "a52e4a8c",
   "metadata": {},
   "outputs": [
    {
     "name": "stdout",
     "output_type": "stream",
     "text": [
      "Train Cost after iteration 0: 39051.36328125\n",
      "Train Cost after iteration 100: 821.2244873046875\n",
      "Train Cost after iteration 200: 461.29644775390625\n",
      "Train Cost after iteration 300: 467.7672119140625\n",
      "Train Cost after iteration 400: 371.594970703125\n",
      "Train Cost after iteration 500: 321.7469482421875\n",
      "Train Cost after iteration 600: 252.75509643554688\n",
      "Train Cost after iteration 700: 154.65579223632812\n",
      "Train Cost after iteration 800: 97.59901428222656\n",
      "Train Cost after iteration 900: 68.09151458740234\n",
      "Train Cost after iteration 1000: 63.897308349609375\n",
      "Train Cost after iteration 1100: 49.16272735595703\n",
      "Train Cost after iteration 1200: 46.025291442871094\n",
      "Train Cost after iteration 1300: 68.93112182617188\n",
      "Train Cost after iteration 1400: 45.068946838378906\n",
      "3/3 [==============================] - 0s 5ms/step\n",
      "\u001b[1mTrainning stop after iteration 1488\u001b[0m\n",
      "\u001b[1mTrain Accuracy is:\u001b[0m \u001b[1m96.51009394901855\u001b[0m\n"
     ]
    },
    {
     "data": {
      "image/png": "[encoded data removed]",
      "text/plain": [
       "<Figure size 800x600 with 1 Axes>"
      ]
     },
     "metadata": {},
     "output_type": "display_data"
    }
   ],
   "source": [
    "our_model = train_model(X_train, Y_train)"
   ]
  },
  {
   "cell_type": "markdown",
   "id": "c2d20b4d",
   "metadata": {},
   "source": [
    "**See! Our model  automatically stopped training after iteration 1488, saved us from unnecessary additional 3512 iterations.** And, our training accuracy is 96.51%. Good to go. Now check out the testing accuracy.\n",
    "\n",
    "The below function will evaluate our trained model and compare it's results with the test data."
   ]
  },
  {
   "cell_type": "code",
   "execution_count": 13,
   "id": "c56ea120",
   "metadata": {},
   "outputs": [],
   "source": [
    "def evaluate_model(model, X_test, Y_test):\n",
    "\n",
    "    Y_pred = model.predict(X_test)\n",
    "    \n",
    "    mae = mean_absolute_error(Y_test, Y_pred)\n",
    "    accuracy = (1 - mae / np.mean(Y_test)) * 100.0\n",
    "    print(\"\\033[1mTest Accuracy is:\\033[0m\", \"\\033[1m{}\\033[0m\".format(accuracy))\n",
    "\n",
    "\n",
    "    plt.figure(figsize=(8, 6))\n",
    "    plt.scatter(X_test, Y_test, marker='o', c='blue', label='Actual Value')\n",
    "    plt.scatter(X_test, Y_pred, marker='o', c='red', label='Predicted Value')\n",
    "    plt.xlabel(\"Porosity\")\n",
    "    plt.ylabel(\"Permeability\")\n",
    "    plt.legend()\n",
    "    plt.show()\n",
    "    \n",
    "    df = pd.DataFrame({\"Actual Permeability\": np.squeeze(Y_test), \"Predicted Permeability\": np.squeeze(Y_pred)})\n",
    "    data_top_bottom = pd.concat([df.head(5), df.tail(5)])\n",
    "    table_style = [{'selector': 'th', 'props': [('background-color', '#4287f5'), ('color', 'white'), ('font-size', '14px'), ('border', '1px solid black')]},\n",
    "                   {'selector': 'td', 'props': [('border', '1px solid black'), ('font-size', '14px'), ('text-align', 'center')]}]\n",
    "    styled_table = data_top_bottom.style.set_table_styles(table_style)\n",
    "    display(styled_table)\n"
   ]
  },
  {
   "cell_type": "code",
   "execution_count": 14,
   "id": "7f9a4b5e",
   "metadata": {
    "scrolled": false
   },
   "outputs": [
    {
     "name": "stdout",
     "output_type": "stream",
     "text": [
      "1/1 [==============================] - 0s 88ms/step\n",
      "\u001b[1mTest Accuracy is:\u001b[0m \u001b[1m92.84017589782391\u001b[0m\n"
     ]
    },
    {
     "data": {
      "image/png": "[encoded data removed]",
      "text/plain": [
       "<Figure size 800x600 with 1 Axes>"
      ]
     },
     "metadata": {},
     "output_type": "display_data"
    },
    {
     "data": {
      "text/html": [
       "<style type=\"text/css\">\n",
       "#T_9011a th {\n",
       "  background-color: #4287f5;\n",
       "  color: white;\n",
       "  font-size: 14px;\n",
       "  border: 1px solid black;\n",
       "}\n",
       "#T_9011a td {\n",
       "  border: 1px solid black;\n",
       "  font-size: 14px;\n",
       "  text-align: center;\n",
       "}\n",
       "</style>\n",
       "<table id=\"T_9011a\">\n",
       "  <thead>\n",
       "    <tr>\n",
       "      <th class=\"blank level0\" >&nbsp;</th>\n",
       "      <th id=\"T_9011a_level0_col0\" class=\"col_heading level0 col0\" >Actual Permeability</th>\n",
       "      <th id=\"T_9011a_level0_col1\" class=\"col_heading level0 col1\" >Predicted Permeability</th>\n",
       "    </tr>\n",
       "  </thead>\n",
       "  <tbody>\n",
       "    <tr>\n",
       "      <th id=\"T_9011a_level0_row0\" class=\"row_heading level0 row0\" >85</th>\n",
       "      <td id=\"T_9011a_row0_col0\" class=\"data row0 col0\" >98.809947</td>\n",
       "      <td id=\"T_9011a_row0_col1\" class=\"data row0 col1\" >105.477997</td>\n",
       "    </tr>\n",
       "    <tr>\n",
       "      <th id=\"T_9011a_level0_row1\" class=\"row_heading level0 row1\" >83</th>\n",
       "      <td id=\"T_9011a_row1_col0\" class=\"data row1 col0\" >200.101407</td>\n",
       "      <td id=\"T_9011a_row1_col1\" class=\"data row1 col1\" >196.367538</td>\n",
       "    </tr>\n",
       "    <tr>\n",
       "      <th id=\"T_9011a_level0_row2\" class=\"row_heading level0 row2\" >91</th>\n",
       "      <td id=\"T_9011a_row2_col0\" class=\"data row2 col0\" >70.203685</td>\n",
       "      <td id=\"T_9011a_row2_col1\" class=\"data row2 col1\" >59.712669</td>\n",
       "    </tr>\n",
       "    <tr>\n",
       "      <th id=\"T_9011a_level0_row3\" class=\"row_heading level0 row3\" >49</th>\n",
       "      <td id=\"T_9011a_row3_col0\" class=\"data row3 col0\" >52.668538</td>\n",
       "      <td id=\"T_9011a_row3_col1\" class=\"data row3 col1\" >45.365498</td>\n",
       "    </tr>\n",
       "    <tr>\n",
       "      <th id=\"T_9011a_level0_row4\" class=\"row_heading level0 row4\" >43</th>\n",
       "      <td id=\"T_9011a_row4_col0\" class=\"data row4 col0\" >104.817867</td>\n",
       "      <td id=\"T_9011a_row4_col1\" class=\"data row4 col1\" >112.642967</td>\n",
       "    </tr>\n",
       "    <tr>\n",
       "      <th id=\"T_9011a_level0_row5\" class=\"row_heading level0 row5\" >32</th>\n",
       "      <td id=\"T_9011a_row5_col0\" class=\"data row5 col0\" >605.710140</td>\n",
       "      <td id=\"T_9011a_row5_col1\" class=\"data row5 col1\" >522.838806</td>\n",
       "    </tr>\n",
       "    <tr>\n",
       "      <th id=\"T_9011a_level0_row6\" class=\"row_heading level0 row6\" >78</th>\n",
       "      <td id=\"T_9011a_row6_col0\" class=\"data row6 col0\" >217.147307</td>\n",
       "      <td id=\"T_9011a_row6_col1\" class=\"data row6 col1\" >207.326248</td>\n",
       "    </tr>\n",
       "    <tr>\n",
       "      <th id=\"T_9011a_level0_row7\" class=\"row_heading level0 row7\" >89</th>\n",
       "      <td id=\"T_9011a_row7_col0\" class=\"data row7 col0\" >63.219223</td>\n",
       "      <td id=\"T_9011a_row7_col1\" class=\"data row7 col1\" >45.522907</td>\n",
       "    </tr>\n",
       "    <tr>\n",
       "      <th id=\"T_9011a_level0_row8\" class=\"row_heading level0 row8\" >15</th>\n",
       "      <td id=\"T_9011a_row8_col0\" class=\"data row8 col0\" >118.242280</td>\n",
       "      <td id=\"T_9011a_row8_col1\" class=\"data row8 col1\" >128.862274</td>\n",
       "    </tr>\n",
       "    <tr>\n",
       "      <th id=\"T_9011a_level0_row9\" class=\"row_heading level0 row9\" >60</th>\n",
       "      <td id=\"T_9011a_row9_col0\" class=\"data row9 col0\" >75.352053</td>\n",
       "      <td id=\"T_9011a_row9_col1\" class=\"data row9 col1\" >66.608978</td>\n",
       "    </tr>\n",
       "  </tbody>\n",
       "</table>\n"
      ],
      "text/plain": [
       "<pandas.io.formats.style.Styler at 0x2954eeb91f0>"
      ]
     },
     "metadata": {},
     "output_type": "display_data"
    }
   ],
   "source": [
    "evaluate_model(our_model.model, X_test, Y_test)"
   ]
  },
  {
   "cell_type": "markdown",
   "id": "99462e5e",
   "metadata": {},
   "source": [
    "So, testing accuracy is 92.84%. Not overfitting.\n",
    "\n",
    "Try tunning the hyperparameters and running this code with your own data (or with this data)."
   ]
  }
 ],
 "metadata": {
  "kernelspec": {
   "display_name": "Python 3 (ipykernel)",
   "language": "python",
   "name": "python3"
  },
  "language_info": {
   "codemirror_mode": {
    "name": "ipython",
    "version": 3
   },
   "file_extension": ".py",
   "mimetype": "text/x-python",
   "name": "python",
   "nbconvert_exporter": "python",
   "pygments_lexer": "ipython3",
   "version": "3.9.13"
  }
 },
 "nbformat": 4,
 "nbformat_minor": 5
}
